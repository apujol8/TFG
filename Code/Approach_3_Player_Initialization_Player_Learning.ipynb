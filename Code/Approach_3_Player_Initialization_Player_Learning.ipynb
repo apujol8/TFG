{
 "cells": [
  {
   "cell_type": "markdown",
   "metadata": {},
   "source": [
    "# Approach 3"
   ]
  },
  {
   "cell_type": "markdown",
   "metadata": {},
   "source": [
    "This approach every player is intialized as a single rating unit. Inference is also performed into players, not teams. Finally, players are grouped into teams in order to perform the prediction model."
   ]
  },
  {
   "cell_type": "code",
   "execution_count": 18,
   "metadata": {},
   "outputs": [],
   "source": [
    "from trueskill import Rating\n",
    "import trueskill as ts\n",
    "import pandas as pd\n",
    "import numpy as np\n",
    "import scipy \n",
    "from scipy import stats\n",
    "import itertools\n",
    "import math\n",
    "import random\n",
    "import matplotlib.pyplot as plt\n",
    "import operator"
   ]
  },
  {
   "cell_type": "markdown",
   "metadata": {},
   "source": [
    "###  Data reading and cleaning."
   ]
  },
  {
   "cell_type": "code",
   "execution_count": 19,
   "metadata": {},
   "outputs": [],
   "source": [
    "games2020, games2021 = read_clean_games()\n",
    "\n",
    "ind_data2019 = ind_read_clean_data('2019_individual_stats.xls', order_by='PTS', n=6)\n",
    "ind_data2020 = ind_read_clean_data('2020_individual_stats.xls', order_by='PTS', n=3)\n",
    "ind_data2021 = ind_read_clean_data('2021_individual_stats.xls', order_by='PTS', n=3)\n",
    "\n",
    "team_data2019, team_data2020 = team_read_clean_data()\n",
    "\n",
    "true_ranking_2019 = read_prepare_xls('team_ranking_2019.xls')\n",
    "true_ranking_2020 = read_prepare_xls('team_ranking_2020.xls')\n",
    "true_ranking_2021 = read_prepare_xls('team_ranking_2021.xls')\n",
    "\n",
    "true_mvp_2019 = pd.read_excel('mvp_ranking_2019.xls', index_col=0)\n",
    "true_mvp_2020 = pd.read_excel('mvp_ranking_2020.xls', index_col=0)\n",
    "true_mvp_2021 = pd.read_excel('mvp_ranking_2021.xls', index_col=0)\n",
    "\n",
    "AvAge = ind_data2019.groupby(['Tm']).mean()['Age']\n",
    "\n",
    "\n",
    "team_data2019 = team_data2019.sort_values('Team', ascending=True)\n",
    "team_data2020 = team_data2020.sort_values('Team', ascending=True)"
   ]
  },
  {
   "cell_type": "code",
   "execution_count": null,
   "metadata": {},
   "outputs": [],
   "source": []
  },
  {
   "cell_type": "markdown",
   "metadata": {},
   "source": [
    "### 1. Prior initialization."
   ]
  },
  {
   "cell_type": "code",
   "execution_count": 20,
   "metadata": {},
   "outputs": [],
   "source": [
    "players_dic, teams_dic, teams_skills = prior_initialization_players(ind_data2019, approach=1)"
   ]
  },
  {
   "cell_type": "markdown",
   "metadata": {},
   "source": [
    "#### Teams evaluation using metric measures."
   ]
  },
  {
   "cell_type": "markdown",
   "metadata": {},
   "source": [
    "Kendall tau correlation coefficient."
   ]
  },
  {
   "cell_type": "code",
   "execution_count": 21,
   "metadata": {},
   "outputs": [
    {
     "name": "stdout",
     "output_type": "stream",
     "text": [
      "0.11264367816091954\n"
     ]
    },
    {
     "name": "stderr",
     "output_type": "stream",
     "text": [
      "/opt/anaconda3/lib/python3.7/site-packages/scipy/stats/stats.py:3967: UserWarning: \"initial_lexsort\" is gone!\n",
      "  warnings.warn('\"initial_lexsort\" is gone!')\n"
     ]
    }
   ],
   "source": [
    "final_rank_teams = prepare_ranking(teams_skills)\n",
    "corr_t, pvalue = rank_distance(final_rank_teams['Pos'], true_ranking_2019['Pos'])\n",
    "print(corr_t)"
   ]
  },
  {
   "cell_type": "markdown",
   "metadata": {},
   "source": [
    "Normalized Kendall Tau distance."
   ]
  },
  {
   "cell_type": "code",
   "execution_count": 22,
   "metadata": {},
   "outputs": [
    {
     "name": "stdout",
     "output_type": "stream",
     "text": [
      "0.49885057471264366\n"
     ]
    }
   ],
   "source": [
    "fr = []\n",
    "tr = []\n",
    "for i in final_rank_teams['Pos']: fr.append(i)\n",
    "\n",
    "for i in true_ranking_2019['Pos']: tr.append(i)\n",
    "\n",
    "\n",
    "kt_dist_t = normalised_kendall_tau_distance(fr, tr)\n",
    "print(kt_dist_t)"
   ]
  },
  {
   "cell_type": "markdown",
   "metadata": {},
   "source": [
    "#### Players evaluation using metric measures."
   ]
  },
  {
   "cell_type": "markdown",
   "metadata": {},
   "source": [
    "Kendall tau correlation coefficient."
   ]
  },
  {
   "cell_type": "code",
   "execution_count": 23,
   "metadata": {},
   "outputs": [
    {
     "name": "stdout",
     "output_type": "stream",
     "text": [
      "-0.15555555555555553\n"
     ]
    }
   ],
   "source": [
    "final_rank_pl = pd.DataFrame(players_dic).transpose()\n",
    "final_rank_pl['Pos']=[i+1 for i in range(len(final_rank_pl))]\n",
    "final_rank_pl.columns = ['mu','sigma','Pos']\n",
    "final_rank_pl = final_rank_pl.sort_values(by='mu', ascending=False)\n",
    "\n",
    "\n",
    "for player in true_mvp_2019['Player']:\n",
    "    true_mvp_2019.loc[true_mvp_2019['Player']==player, 'Rank'] = final_rank_pl.loc[player].Pos \n",
    "    \n",
    "corr_p, pvalue = rank_distance(final_rank_pl['Pos'].head(10), true_mvp_2019['Rank'].head(10))\n",
    "print(corr_p)"
   ]
  },
  {
   "cell_type": "markdown",
   "metadata": {},
   "source": [
    "Normalized Kendall Tau distance."
   ]
  },
  {
   "cell_type": "code",
   "execution_count": 24,
   "metadata": {},
   "outputs": [
    {
     "name": "stdout",
     "output_type": "stream",
     "text": [
      "0.28888888888888886\n"
     ]
    }
   ],
   "source": [
    "fr = []\n",
    "tr = []\n",
    "for i in final_rank_pl['Pos'].head(10): fr.append(i)\n",
    "\n",
    "for i in true_ranking_2019['Pos'].head(10): tr.append(i)\n",
    "\n",
    "\n",
    "kt_dist_t = normalised_kendall_tau_distance(fr, tr)\n",
    "print(kt_dist_t)"
   ]
  },
  {
   "cell_type": "markdown",
   "metadata": {},
   "source": [
    "After-initialization players ranking."
   ]
  },
  {
   "cell_type": "code",
   "execution_count": 25,
   "metadata": {},
   "outputs": [
    {
     "data": {
      "text/html": [
       "<div>\n",
       "<style scoped>\n",
       "    .dataframe tbody tr th:only-of-type {\n",
       "        vertical-align: middle;\n",
       "    }\n",
       "\n",
       "    .dataframe tbody tr th {\n",
       "        vertical-align: top;\n",
       "    }\n",
       "\n",
       "    .dataframe thead th {\n",
       "        text-align: right;\n",
       "    }\n",
       "</style>\n",
       "<table border=\"1\" class=\"dataframe\">\n",
       "  <thead>\n",
       "    <tr style=\"text-align: right;\">\n",
       "      <th></th>\n",
       "      <th>Pos</th>\n",
       "    </tr>\n",
       "  </thead>\n",
       "  <tbody>\n",
       "    <tr>\n",
       "      <td>James Harden</td>\n",
       "      <td>61</td>\n",
       "    </tr>\n",
       "    <tr>\n",
       "      <td>Giannis Antetokounmpo</td>\n",
       "      <td>97</td>\n",
       "    </tr>\n",
       "    <tr>\n",
       "      <td>Joel Embiid</td>\n",
       "      <td>133</td>\n",
       "    </tr>\n",
       "    <tr>\n",
       "      <td>LeBron James</td>\n",
       "      <td>79</td>\n",
       "    </tr>\n",
       "    <tr>\n",
       "      <td>Russell Westbrook</td>\n",
       "      <td>122</td>\n",
       "    </tr>\n",
       "    <tr>\n",
       "      <td>Anthony Davis</td>\n",
       "      <td>109</td>\n",
       "    </tr>\n",
       "    <tr>\n",
       "      <td>Paul George</td>\n",
       "      <td>121</td>\n",
       "    </tr>\n",
       "    <tr>\n",
       "      <td>Karl-Anthony Towns</td>\n",
       "      <td>103</td>\n",
       "    </tr>\n",
       "    <tr>\n",
       "      <td>Kevin Durant</td>\n",
       "      <td>56</td>\n",
       "    </tr>\n",
       "    <tr>\n",
       "      <td>Stephen Curry</td>\n",
       "      <td>55</td>\n",
       "    </tr>\n",
       "  </tbody>\n",
       "</table>\n",
       "</div>"
      ],
      "text/plain": [
       "                       Pos\n",
       "James Harden            61\n",
       "Giannis Antetokounmpo   97\n",
       "Joel Embiid            133\n",
       "LeBron James            79\n",
       "Russell Westbrook      122\n",
       "Anthony Davis          109\n",
       "Paul George            121\n",
       "Karl-Anthony Towns     103\n",
       "Kevin Durant            56\n",
       "Stephen Curry           55"
      ]
     },
     "execution_count": 25,
     "metadata": {},
     "output_type": "execute_result"
    }
   ],
   "source": [
    "final_rank_pl[['Pos']].head(10)"
   ]
  },
  {
   "cell_type": "markdown",
   "metadata": {},
   "source": [
    "Ground truth 2018/2019 MVP ranking."
   ]
  },
  {
   "cell_type": "code",
   "execution_count": 26,
   "metadata": {},
   "outputs": [
    {
     "data": {
      "text/html": [
       "<div>\n",
       "<style scoped>\n",
       "    .dataframe tbody tr th:only-of-type {\n",
       "        vertical-align: middle;\n",
       "    }\n",
       "\n",
       "    .dataframe tbody tr th {\n",
       "        vertical-align: top;\n",
       "    }\n",
       "\n",
       "    .dataframe thead th {\n",
       "        text-align: right;\n",
       "    }\n",
       "</style>\n",
       "<table border=\"1\" class=\"dataframe\">\n",
       "  <thead>\n",
       "    <tr style=\"text-align: right;\">\n",
       "      <th></th>\n",
       "      <th>Player</th>\n",
       "      <th>Rank</th>\n",
       "    </tr>\n",
       "  </thead>\n",
       "  <tbody>\n",
       "    <tr>\n",
       "      <td>1</td>\n",
       "      <td>Giannis Antetokounmpo</td>\n",
       "      <td>97.0</td>\n",
       "    </tr>\n",
       "    <tr>\n",
       "      <td>2</td>\n",
       "      <td>James Harden</td>\n",
       "      <td>61.0</td>\n",
       "    </tr>\n",
       "    <tr>\n",
       "      <td>3</td>\n",
       "      <td>Paul George</td>\n",
       "      <td>121.0</td>\n",
       "    </tr>\n",
       "    <tr>\n",
       "      <td>4</td>\n",
       "      <td>Nikola Jokic</td>\n",
       "      <td>43.0</td>\n",
       "    </tr>\n",
       "    <tr>\n",
       "      <td>5</td>\n",
       "      <td>Stephen Curry</td>\n",
       "      <td>55.0</td>\n",
       "    </tr>\n",
       "    <tr>\n",
       "      <td>6</td>\n",
       "      <td>Damian Lillard</td>\n",
       "      <td>145.0</td>\n",
       "    </tr>\n",
       "    <tr>\n",
       "      <td>7</td>\n",
       "      <td>Joel Embiid</td>\n",
       "      <td>133.0</td>\n",
       "    </tr>\n",
       "    <tr>\n",
       "      <td>8</td>\n",
       "      <td>Kevin Durant</td>\n",
       "      <td>56.0</td>\n",
       "    </tr>\n",
       "    <tr>\n",
       "      <td>9</td>\n",
       "      <td>Kawhi Leonard</td>\n",
       "      <td>163.0</td>\n",
       "    </tr>\n",
       "    <tr>\n",
       "      <td>10</td>\n",
       "      <td>Russell Westbrook</td>\n",
       "      <td>122.0</td>\n",
       "    </tr>\n",
       "  </tbody>\n",
       "</table>\n",
       "</div>"
      ],
      "text/plain": [
       "                   Player   Rank\n",
       "1   Giannis Antetokounmpo   97.0\n",
       "2            James Harden   61.0\n",
       "3             Paul George  121.0\n",
       "4            Nikola Jokic   43.0\n",
       "5           Stephen Curry   55.0\n",
       "6          Damian Lillard  145.0\n",
       "7             Joel Embiid  133.0\n",
       "8            Kevin Durant   56.0\n",
       "9           Kawhi Leonard  163.0\n",
       "10      Russell Westbrook  122.0"
      ]
     },
     "execution_count": 26,
     "metadata": {},
     "output_type": "execute_result"
    }
   ],
   "source": [
    "true_mvp_2019[['Player','Rank']].head(10)"
   ]
  },
  {
   "cell_type": "code",
   "execution_count": null,
   "metadata": {},
   "outputs": [],
   "source": []
  },
  {
   "cell_type": "markdown",
   "metadata": {},
   "source": [
    "### 2. Inference model"
   ]
  },
  {
   "cell_type": "code",
   "execution_count": 27,
   "metadata": {},
   "outputs": [],
   "source": [
    "_, new_teams_dic, new_teams_skills = prior_initialization_players(ind_data2020, approach=1)\n",
    "\n",
    "games_outcome_2019 = prepare_arrays(games2020['HomeWinner'], games2020['AwayWinner'])\n",
    "match_array_2019 = prepare_arrays(games2020['Home/Neutral'], games2020['Visitor/Neutral'])\n",
    "\n",
    "players_dic = add_rookies(players_dic, ind_data2020)\n",
    "\n",
    "players_dic, sigma_evolution = inference(players_dic, new_teams_dic, match_array_2019, games_outcome_2019, ind_data2019, ind_data2020)\n",
    "\n"
   ]
  },
  {
   "cell_type": "code",
   "execution_count": 28,
   "metadata": {},
   "outputs": [],
   "source": [
    "#reorganize players in new teams\n",
    "for team in new_teams_dic:\n",
    "    \n",
    "    new_teams_skills[team] = Rating(0.0, 0.00001)\n",
    "    \n",
    "    for player in new_teams_dic[team]:\n",
    "        \n",
    "        if player in players_dic:\n",
    "            new_teams_skills[team] = Rating(players_dic[player].mu+new_teams_skills[team].mu ,\n",
    "                                        players_dic[player].sigma+new_teams_skills[team].sigma)"
   ]
  },
  {
   "cell_type": "markdown",
   "metadata": {},
   "source": [
    "#### Teams evaluation using metric measures."
   ]
  },
  {
   "cell_type": "markdown",
   "metadata": {},
   "source": [
    "Kendall tau correlation coefficient."
   ]
  },
  {
   "cell_type": "code",
   "execution_count": 29,
   "metadata": {},
   "outputs": [
    {
     "name": "stdout",
     "output_type": "stream",
     "text": [
      "0.32873563218390806 0.010422655239833663\n"
     ]
    }
   ],
   "source": [
    "final_rank_teams = prepare_ranking(new_teams_skills)\n",
    "corr, pvalue = rank_distance(final_rank_teams['Pos'], true_ranking_2020['Pos'])\n",
    "print(corr, pvalue)"
   ]
  },
  {
   "cell_type": "markdown",
   "metadata": {},
   "source": [
    "Normalized Kendall Tau distance."
   ]
  },
  {
   "cell_type": "code",
   "execution_count": 30,
   "metadata": {},
   "outputs": [
    {
     "name": "stdout",
     "output_type": "stream",
     "text": [
      "0.1793103448275862\n"
     ]
    }
   ],
   "source": [
    "fr = []\n",
    "tr = []\n",
    "for i in final_rank_teams['Pos']: fr.append(i)\n",
    "\n",
    "for i in true_ranking_2020['Pos']: tr.append(i)\n",
    "\n",
    "\n",
    "kt_dist_t = normalised_kendall_tau_distance(fr, tr)\n",
    "print(kt_dist_t)"
   ]
  },
  {
   "cell_type": "markdown",
   "metadata": {},
   "source": [
    "#### Players evaluation using metric measures."
   ]
  },
  {
   "cell_type": "markdown",
   "metadata": {},
   "source": [
    "Kendall tau correlation coefficient."
   ]
  },
  {
   "cell_type": "code",
   "execution_count": 31,
   "metadata": {},
   "outputs": [
    {
     "name": "stdout",
     "output_type": "stream",
     "text": [
      "-0.022222222222222223\n"
     ]
    }
   ],
   "source": [
    "final_rank_pl = prepare_ranking(players_dic)\n",
    "for player in true_mvp_2020['Player']:\n",
    "    true_mvp_2020.loc[true_mvp_2020['Player']==player, 'Rank'] = final_rank_pl.loc[player].Pos \n",
    "    \n",
    "corr_p, pvalue = rank_distance(final_rank_pl['Pos'].head(10), true_mvp_2020['Rank'].head(10))\n",
    "print(corr_p)"
   ]
  },
  {
   "cell_type": "markdown",
   "metadata": {},
   "source": [
    "Normalized Kendall Tau distance."
   ]
  },
  {
   "cell_type": "code",
   "execution_count": 32,
   "metadata": {},
   "outputs": [
    {
     "name": "stdout",
     "output_type": "stream",
     "text": [
      "0.7777777777777778\n"
     ]
    }
   ],
   "source": [
    "fr = []\n",
    "tr = []\n",
    "for i in final_rank_pl['Pos'].head(10): fr.append(i)\n",
    "\n",
    "for i in true_ranking_2019['Pos'].head(10): tr.append(i)\n",
    "\n",
    "\n",
    "kt_dist_t = normalised_kendall_tau_distance(fr, tr)\n",
    "print(kt_dist_t)"
   ]
  },
  {
   "cell_type": "markdown",
   "metadata": {},
   "source": [
    "After-inference players ranking."
   ]
  },
  {
   "cell_type": "code",
   "execution_count": 33,
   "metadata": {},
   "outputs": [
    {
     "data": {
      "text/html": [
       "<div>\n",
       "<style scoped>\n",
       "    .dataframe tbody tr th:only-of-type {\n",
       "        vertical-align: middle;\n",
       "    }\n",
       "\n",
       "    .dataframe tbody tr th {\n",
       "        vertical-align: top;\n",
       "    }\n",
       "\n",
       "    .dataframe thead th {\n",
       "        text-align: right;\n",
       "    }\n",
       "</style>\n",
       "<table border=\"1\" class=\"dataframe\">\n",
       "  <thead>\n",
       "    <tr style=\"text-align: right;\">\n",
       "      <th></th>\n",
       "      <th>Pos</th>\n",
       "    </tr>\n",
       "  </thead>\n",
       "  <tbody>\n",
       "    <tr>\n",
       "      <td>Kemba Walker</td>\n",
       "      <td>25</td>\n",
       "    </tr>\n",
       "    <tr>\n",
       "      <td>Giannis Antetokounmpo</td>\n",
       "      <td>97</td>\n",
       "    </tr>\n",
       "    <tr>\n",
       "      <td>Nikola Jokic</td>\n",
       "      <td>43</td>\n",
       "    </tr>\n",
       "    <tr>\n",
       "      <td>Pascal Siakam</td>\n",
       "      <td>164</td>\n",
       "    </tr>\n",
       "    <tr>\n",
       "      <td>Kyle Lowry</td>\n",
       "      <td>166</td>\n",
       "    </tr>\n",
       "    <tr>\n",
       "      <td>Paul George</td>\n",
       "      <td>121</td>\n",
       "    </tr>\n",
       "    <tr>\n",
       "      <td>Joel Embiid</td>\n",
       "      <td>133</td>\n",
       "    </tr>\n",
       "    <tr>\n",
       "      <td>James Harden</td>\n",
       "      <td>61</td>\n",
       "    </tr>\n",
       "    <tr>\n",
       "      <td>Danilo Gallinari</td>\n",
       "      <td>74</td>\n",
       "    </tr>\n",
       "    <tr>\n",
       "      <td>LeBron James</td>\n",
       "      <td>79</td>\n",
       "    </tr>\n",
       "  </tbody>\n",
       "</table>\n",
       "</div>"
      ],
      "text/plain": [
       "                       Pos\n",
       "Kemba Walker            25\n",
       "Giannis Antetokounmpo   97\n",
       "Nikola Jokic            43\n",
       "Pascal Siakam          164\n",
       "Kyle Lowry             166\n",
       "Paul George            121\n",
       "Joel Embiid            133\n",
       "James Harden            61\n",
       "Danilo Gallinari        74\n",
       "LeBron James            79"
      ]
     },
     "execution_count": 33,
     "metadata": {},
     "output_type": "execute_result"
    }
   ],
   "source": [
    "final_rank_pl[['Pos']].head(10)"
   ]
  },
  {
   "cell_type": "markdown",
   "metadata": {},
   "source": [
    "Ground truth 2019/2020 MVP ranking."
   ]
  },
  {
   "cell_type": "code",
   "execution_count": 34,
   "metadata": {},
   "outputs": [
    {
     "data": {
      "text/html": [
       "<div>\n",
       "<style scoped>\n",
       "    .dataframe tbody tr th:only-of-type {\n",
       "        vertical-align: middle;\n",
       "    }\n",
       "\n",
       "    .dataframe tbody tr th {\n",
       "        vertical-align: top;\n",
       "    }\n",
       "\n",
       "    .dataframe thead th {\n",
       "        text-align: right;\n",
       "    }\n",
       "</style>\n",
       "<table border=\"1\" class=\"dataframe\">\n",
       "  <thead>\n",
       "    <tr style=\"text-align: right;\">\n",
       "      <th></th>\n",
       "      <th>Player</th>\n",
       "      <th>Rank</th>\n",
       "    </tr>\n",
       "  </thead>\n",
       "  <tbody>\n",
       "    <tr>\n",
       "      <td>1</td>\n",
       "      <td>Giannis Antetokounmpo</td>\n",
       "      <td>97.0</td>\n",
       "    </tr>\n",
       "    <tr>\n",
       "      <td>2</td>\n",
       "      <td>LeBron James</td>\n",
       "      <td>79.0</td>\n",
       "    </tr>\n",
       "    <tr>\n",
       "      <td>3</td>\n",
       "      <td>James Harden</td>\n",
       "      <td>61.0</td>\n",
       "    </tr>\n",
       "    <tr>\n",
       "      <td>4</td>\n",
       "      <td>Luka Doncic</td>\n",
       "      <td>37.0</td>\n",
       "    </tr>\n",
       "    <tr>\n",
       "      <td>5</td>\n",
       "      <td>Kawhi Leonard</td>\n",
       "      <td>163.0</td>\n",
       "    </tr>\n",
       "    <tr>\n",
       "      <td>6</td>\n",
       "      <td>Anthony Davis</td>\n",
       "      <td>109.0</td>\n",
       "    </tr>\n",
       "    <tr>\n",
       "      <td>7</td>\n",
       "      <td>Chris Paul</td>\n",
       "      <td>64.0</td>\n",
       "    </tr>\n",
       "    <tr>\n",
       "      <td>8</td>\n",
       "      <td>Damian Lillard</td>\n",
       "      <td>145.0</td>\n",
       "    </tr>\n",
       "    <tr>\n",
       "      <td>9</td>\n",
       "      <td>Nikola Jokic</td>\n",
       "      <td>43.0</td>\n",
       "    </tr>\n",
       "    <tr>\n",
       "      <td>10</td>\n",
       "      <td>Pascal Siakam</td>\n",
       "      <td>164.0</td>\n",
       "    </tr>\n",
       "  </tbody>\n",
       "</table>\n",
       "</div>"
      ],
      "text/plain": [
       "                   Player   Rank\n",
       "1   Giannis Antetokounmpo   97.0\n",
       "2            LeBron James   79.0\n",
       "3            James Harden   61.0\n",
       "4             Luka Doncic   37.0\n",
       "5           Kawhi Leonard  163.0\n",
       "6           Anthony Davis  109.0\n",
       "7              Chris Paul   64.0\n",
       "8          Damian Lillard  145.0\n",
       "9            Nikola Jokic   43.0\n",
       "10          Pascal Siakam  164.0"
      ]
     },
     "execution_count": 34,
     "metadata": {},
     "output_type": "execute_result"
    }
   ],
   "source": [
    "true_mvp_2020[['Player','Rank']].head(10)"
   ]
  },
  {
   "cell_type": "markdown",
   "metadata": {},
   "source": [
    "Sigma evolution plot per player."
   ]
  },
  {
   "cell_type": "code",
   "execution_count": 36,
   "metadata": {},
   "outputs": [
    {
     "name": "stderr",
     "output_type": "stream",
     "text": [
      "No handles with labels found to put in legend.\n"
     ]
    },
    {
     "data": {
      "image/png": "[encoded data removed]",
      "text/plain": [
       "<Figure size 1440x360 with 1 Axes>"
      ]
     },
     "metadata": {
      "needs_background": "light"
     },
     "output_type": "display_data"
    }
   ],
   "source": [
    "plt.figure(figsize=(20,5))\n",
    "for team in sigma_evolution:\n",
    "    plt.plot(range(0,len(sigma_evolution[team])), sigma_evolution[team])\n",
    "\n",
    "plt.xlabel('Number of samples')\n",
    "plt.ylabel('Sigma value')\n",
    "plt.legend()\n",
    "plt.show()"
   ]
  },
  {
   "cell_type": "code",
   "execution_count": null,
   "metadata": {},
   "outputs": [],
   "source": []
  },
  {
   "cell_type": "markdown",
   "metadata": {},
   "source": [
    "### 3. Prediction model"
   ]
  },
  {
   "cell_type": "code",
   "execution_count": 37,
   "metadata": {},
   "outputs": [],
   "source": [
    "#reorganize players in new teams\n",
    "\n",
    "_, teams_dic_2021, teams_skills_2021 = prior_initialization_players(ind_data2021, approach=1)\n",
    "\n",
    "players_dic = add_rookies(players_dic, ind_data2021)\n",
    "\n",
    "\n",
    "for team in new_teams_dic:\n",
    "    \n",
    "    teams_skills_2021[team] = Rating(0.0, 0.00001)\n",
    "    \n",
    "    for player in teams_dic_2021[team]:\n",
    "        \n",
    "        if player in players_dic:\n",
    "            teams_skills_2021[team] = Rating(players_dic[player].mu+new_teams_skills[team].mu ,\n",
    "                                        players_dic[player].sigma+new_teams_skills[team].sigma)"
   ]
  },
  {
   "cell_type": "code",
   "execution_count": 38,
   "metadata": {},
   "outputs": [],
   "source": [
    "games_outcome_2020 = prepare_arrays(games2021['HomeWinner'], games2021['AwayWinner'])\n",
    "match_array_2020 = prepare_arrays(games2021['Home/Neutral'], games2021['Visitor/Neutral'])\n",
    "\n",
    "\n",
    "#prediction repeated over N iterations\n",
    "iterations = 1000\n",
    "mispredictions = []\n",
    "ranking_distances = []\n",
    "ranking_correlations = []\n",
    "pred_teams_wins = prior_initialization_teams(team_data2020, approach=0)\n",
    "n_wins = prior_initialization_teams(team_data2020, approach=0)\n",
    "wins_difference = prior_initialization_teams(team_data2020, approach=0)\n",
    "\n",
    "for team in pred_teams_wins:\n",
    "    n_wins[team] = 0\n",
    "    \n",
    "\n",
    "\n",
    "for i in range(0, iterations):\n",
    "    \n",
    "    #simulate each game output\n",
    "    games2021, ratio = season_simulation(teams_skills_2021, match_array_2020, games2021)\n",
    "    \n",
    "    \n",
    "    #compute rankings difference\n",
    "    for team in pred_teams_wins:\n",
    "        pred_teams_wins[team] = 0\n",
    "        \n",
    "    \n",
    "    for i in range(len(match_array_2020)):\n",
    "        \n",
    "        if (games2021['Pred_Home'][i] == 0):\n",
    "            \n",
    "            pred_teams_wins[match_array_2020[i][0]] += 1\n",
    "            \n",
    "        if (games2021['Pred_Away'][i] == 0):\n",
    "            \n",
    "            pred_teams_wins[match_array_2020[i][1]] += 1\n",
    "    \n",
    "    \n",
    "    \n",
    "    #organizee data in order to perform ranking distance comparison\n",
    "    count = 0\n",
    "    for i in pred_teams_wins:\n",
    "        count = count+1\n",
    "        pred_teams_wins[i] = (pred_teams_wins.get(i), count)\n",
    "    \n",
    "    ranking = pd.DataFrame(pred_teams_wins).transpose()\n",
    "    ranking.columns = ['wins','Pos']\n",
    "    ranking = ranking.sort_values(by='wins', ascending=False)\n",
    "    \n",
    "    \n",
    "    \n",
    "    #compute ranking distance\n",
    "    kt_dist = normalised_kendall_tau_distance(np.array(ranking['Pos']), np.array(true_ranking_2021['Pos']))\n",
    "    \n",
    "    rdist,_ = rank_distance(ranking['Pos'], true_ranking_2021['Pos'])\n",
    "    \n",
    "    for team in n_wins:\n",
    "        n_wins[team] = n_wins[team]+pred_teams_wins[team][0]\n",
    "    \n",
    "    mispredictions.append(ratio)\n",
    "    ranking_distances.append(kt_dist)\n",
    "    ranking_correlations.append(rdist)\n",
    "    "
   ]
  },
  {
   "cell_type": "code",
   "execution_count": null,
   "metadata": {},
   "outputs": [],
   "source": []
  },
  {
   "cell_type": "markdown",
   "metadata": {},
   "source": [
    "### 4. Results"
   ]
  },
  {
   "cell_type": "markdown",
   "metadata": {},
   "source": [
    "Histogram representing the ratio of mispredicted games for each iteration. The mean over all iterations is displayed as a red dashed line."
   ]
  },
  {
   "cell_type": "code",
   "execution_count": 39,
   "metadata": {},
   "outputs": [
    {
     "name": "stdout",
     "output_type": "stream",
     "text": [
      "53.149907407407404\n"
     ]
    },
    {
     "data": {
      "image/png": "[encoded data removed]",
      "text/plain": [
       "<Figure size 432x288 with 1 Axes>"
      ]
     },
     "metadata": {
      "needs_background": "light"
     },
     "output_type": "display_data"
    }
   ],
   "source": [
    "plt.hist(mispredictions, bins=20, range=[45,60], color='c', edgecolor='k')\n",
    "plt.axvline(np.mean(mispredictions), color='red', linestyle='dashed')\n",
    "plt.xlabel('Ratio (%) of wrongly predicted games per season')\n",
    "plt.ylabel('Number of samples in each bin')\n",
    "print(np.mean(mispredictions))"
   ]
  },
  {
   "cell_type": "markdown",
   "metadata": {},
   "source": [
    "Histogram representing the normalized Kendall Tau distance between ground truth and predicted rankings for each iteration. The mean over all iterations is displayed as a red dashed line."
   ]
  },
  {
   "cell_type": "code",
   "execution_count": 40,
   "metadata": {},
   "outputs": [
    {
     "name": "stdout",
     "output_type": "stream",
     "text": [
      "0.3716597701149425\n"
     ]
    },
    {
     "data": {
      "image/png": "[encoded data removed]",
      "text/plain": [
       "<Figure size 432x288 with 1 Axes>"
      ]
     },
     "metadata": {
      "needs_background": "light"
     },
     "output_type": "display_data"
    }
   ],
   "source": [
    "#distance histogram\n",
    "plt.hist(ranking_distances, bins=20, color='c', edgecolor='k')\n",
    "plt.axvline(np.mean(ranking_distances), color='red', linestyle='dashed')\n",
    "plt.xlabel('Normalized Kendall Tau distance')\n",
    "plt.ylabel('Number of samples in each bin')\n",
    "print(np.mean(ranking_distances))"
   ]
  },
  {
   "cell_type": "markdown",
   "metadata": {},
   "source": [
    "Histogram representing the Kendall Tau correlation coefficient computed for ground truth and predicted rankings for each iteration. The mean over all iterations is displayed as a red dashed line."
   ]
  },
  {
   "cell_type": "code",
   "execution_count": 41,
   "metadata": {},
   "outputs": [
    {
     "name": "stdout",
     "output_type": "stream",
     "text": [
      "0.0016367816091954026\n"
     ]
    },
    {
     "data": {
      "image/png": "[encoded data removed]",
      "text/plain": [
       "<Figure size 432x288 with 1 Axes>"
      ]
     },
     "metadata": {
      "needs_background": "light"
     },
     "output_type": "display_data"
    }
   ],
   "source": [
    "plt.hist(ranking_correlations, bins=20, color='c', edgecolor='k')\n",
    "plt.axvline(np.mean(ranking_correlations), color='red', linestyle='dashed')\n",
    "plt.xlabel('Kendall Tau correlation coefficient')\n",
    "plt.ylabel('Number of samples in each bin')\n",
    "print(np.mean(ranking_correlations))"
   ]
  },
  {
   "cell_type": "markdown",
   "metadata": {},
   "source": [
    "This histogram represents the average amount of games won per team."
   ]
  },
  {
   "cell_type": "code",
   "execution_count": 42,
   "metadata": {},
   "outputs": [
    {
     "data": {
      "image/png": "[encoded data removed]",
      "text/plain": [
       "<Figure size 1440x360 with 1 Axes>"
      ]
     },
     "metadata": {
      "needs_background": "light"
     },
     "output_type": "display_data"
    }
   ],
   "source": [
    "real_win = {}\n",
    "for team in n_wins:\n",
    "    n_wins[team] = n_wins[team]/iterations\n",
    "    real_win[team] = int(true_ranking_2021[true_ranking_2021['Team']==team]['W'])\n",
    "    \n",
    "    \n",
    "plt.figure(figsize=(20,5))\n",
    "plt.bar(range(len(n_wins)), list(n_wins.values()), tick_label=list(n_wins.keys()), color='c', edgecolor='k')\n",
    "plt.show()"
   ]
  },
  {
   "cell_type": "markdown",
   "metadata": {},
   "source": [
    "Histogram representing the average amount of games won (blue bars) against the grount truth amount of games won (green bars) for each team. "
   ]
  },
  {
   "cell_type": "code",
   "execution_count": 45,
   "metadata": {},
   "outputs": [
    {
     "data": {
      "image/png": "[encoded data removed]",
      "text/plain": [
       "<Figure size 1800x720 with 1 Axes>"
      ]
     },
     "metadata": {
      "needs_background": "light"
     },
     "output_type": "display_data"
    }
   ],
   "source": [
    "plt.figure(figsize=(25,10))\n",
    "index = np.arange(len(n_wins))\n",
    "bar_width = 0.35\n",
    "opacity = 0.8\n",
    "\n",
    "rects1 = plt.bar(index, list(n_wins.values()), bar_width,\n",
    "                alpha=opacity,\n",
    "                color='c',\n",
    "                edgecolor='k',\n",
    "                label='PredictedAverage')\n",
    "\n",
    "rects2 = plt.bar(index + bar_width+0.05, list(real_win.values()), bar_width,\n",
    "                 alpha=opacity,\n",
    "                 color='g',\n",
    "                 edgecolor='k',\n",
    "                 label='GroundTruth')\n",
    "\n",
    "\n",
    "\n",
    "plt.xlabel('NBA teams', size=20)\n",
    "plt.ylabel('Amount of Games Won', size=20)\n",
    "plt.title('Amount of games won difference', size=20)\n",
    "plt.xticks(index + bar_width, list(n_wins.keys()))\n",
    "plt.legend(loc=2, prop={'size': 15})\n",
    "\n",
    "plt.tight_layout()\n",
    "plt.show()"
   ]
  },
  {
   "cell_type": "markdown",
   "metadata": {},
   "source": [
    "Average difference between the predicted amount of games won and the ground truth amount of games won among all teams."
   ]
  },
  {
   "cell_type": "code",
   "execution_count": 46,
   "metadata": {},
   "outputs": [
    {
     "data": {
      "text/plain": [
       "10.639266666666668"
      ]
     },
     "execution_count": 46,
     "metadata": {},
     "output_type": "execute_result"
    }
   ],
   "source": [
    "for team in n_wins:\n",
    "    wins_difference[team] = abs(n_wins[team]-real_win[team])\n",
    "    \n",
    "\n",
    "avdif = 0\n",
    "for i in wins_difference:\n",
    "    avdif = avdif+wins_difference[i]\n",
    "    \n",
    "avdif = avdif/len(wins_difference)\n",
    "avdif"
   ]
  },
  {
   "cell_type": "code",
   "execution_count": null,
   "metadata": {},
   "outputs": [],
   "source": []
  },
  {
   "cell_type": "code",
   "execution_count": null,
   "metadata": {},
   "outputs": [],
   "source": []
  },
  {
   "cell_type": "code",
   "execution_count": null,
   "metadata": {},
   "outputs": [],
   "source": []
  },
  {
   "cell_type": "markdown",
   "metadata": {},
   "source": [
    "### Auxiliar functions."
   ]
  },
  {
   "cell_type": "code",
   "execution_count": 1,
   "metadata": {},
   "outputs": [],
   "source": [
    "# This function is used to prepare and clean data corresponding to each game in seasons 2019/2020 and\n",
    "# 2020/2021. Each database is returned separatelly, one for each season. For each row (game) there are\n",
    "# 4 columns (one for each team involved in the game, and two binary complementary columns). Binary\n",
    "# complementary columns are named AwayWinner and HomeWinner. For each row, if the home team wins the game, \n",
    "# HomeWinner is set to 0, whereas AwayWinner to 1.\n",
    "\n",
    "\n",
    "def read_clean_games():\n",
    "    #read games over the season\n",
    "    games2020oct = pd.read_csv('Games2020oct.csv', sep=';')\n",
    "    games2020nov = pd.read_csv('Games2020nov.csv', sep=';')\n",
    "    games2020dec = pd.read_csv('Games2020dec.csv', sep=';')\n",
    "    games2020jan = pd.read_csv('Games2020jan.csv', sep=';')\n",
    "    games2020feb = pd.read_csv('Games2020feb.csv', sep=';')\n",
    "    games2020mar = pd.read_csv('Games2020mar.csv', sep=';')\n",
    "    games2020jul = pd.read_csv('Games2020jul.csv', sep=';')\n",
    "    games2020aug = pd.read_csv('Games2020aug.csv', sep=';')\n",
    "    \n",
    "    #games databases were separated by month each took place in, so I needed to concatenate them in a single db.\n",
    "    games2020 = pd.concat([games2020oct, games2020nov], axis=0)\n",
    "    games2020 = pd.concat([games2020, games2020dec], axis=0)\n",
    "    games2020 = pd.concat([games2020, games2020jan], axis=0)\n",
    "    games2020 = pd.concat([games2020, games2020feb], axis=0)\n",
    "    games2020 = pd.concat([games2020, games2020mar], axis=0)\n",
    "    games2020 = pd.concat([games2020, games2020jul], axis=0)\n",
    "    games2020 = pd.concat([games2020, games2020aug], axis=0)\n",
    "    \n",
    "    # winner set to 0 if local team wins, loser to 1\n",
    "    #low ranking is better in trueskill.\n",
    "\n",
    "    games2020['AwayWinner'] = np.where(games2020['PTS.1']<games2020['PTS'], 0, 1)\n",
    "    games2020['HomeWinner'] = np.where(games2020['PTS']<games2020['PTS.1'], 0, 1)\n",
    "\n",
    "    games2020 = games2020.drop(columns=['Date','Start (ET)','PTS','PTS.1','Unnamed: 6','Unnamed: 7','Attend.','Notes'])\n",
    "    \n",
    "    games2020.dropna(inplace=True)\n",
    "    games2020.reset_index(inplace=True, drop=True)\n",
    "    \n",
    "    name_to_code(games2020['Visitor/Neutral'])\n",
    "    name_to_code(games2020['Home/Neutral'])\n",
    "    \n",
    "    \n",
    "    ##############################################################\n",
    "    \n",
    "    games2021dec = pd.read_csv('Games2021dec.csv', sep=';')\n",
    "    games2021jan = pd.read_csv('Games2021jan.csv', sep=';')\n",
    "    games2021feb = pd.read_csv('Games2021feb.csv', sep=';')\n",
    "    games2021mar = pd.read_csv('Games2021mar.csv', sep=';')\n",
    "    games2021apr = pd.read_csv('Games2021apr.csv', sep=';')\n",
    "    games2021may = pd.read_csv('Games2021may.csv', sep=';')\n",
    "\n",
    "\n",
    "    #games databases were separated by month each took place in, so I needed to concatenate them in a single db.\n",
    "    games2021 = pd.concat([games2021dec, games2021jan], axis=0)\n",
    "    games2021 = pd.concat([games2021, games2021feb], axis=0)\n",
    "    games2021 = pd.concat([games2021, games2021mar], axis=0)\n",
    "    games2021 = pd.concat([games2021, games2021apr], axis=0)\n",
    "    games2021 = pd.concat([games2021, games2021may], axis=0)\n",
    "\n",
    "\n",
    "\n",
    "    # winner set to 1 if local team wins, loser to 0\n",
    "    games2021['AwayWinner'] = np.where(games2021['PTS.1']<games2021['PTS'], 0, 1)\n",
    "    games2021['HomeWinner'] = np.where(games2021['PTS']<games2021['PTS.1'], 0, 1)\n",
    "\n",
    "    games2021 = games2021.drop(columns=['Date','Start (ET)','PTS','PTS.1','Unnamed: 6','Unnamed: 7','Attend.','Notes'])\n",
    "\n",
    "    games2021.dropna(inplace=True)\n",
    "    games2021.reset_index(inplace=True, drop=True)\n",
    "\n",
    "    name_to_code(games2021['Visitor/Neutral'])\n",
    "    name_to_code(games2021['Home/Neutral'])\n",
    "    \n",
    "    \n",
    "    return games2020, games2021"
   ]
  },
  {
   "cell_type": "code",
   "execution_count": 2,
   "metadata": {},
   "outputs": [],
   "source": [
    "# This function receives as parameter a column of a dataframe, converts the complete team name by its \n",
    "# code, and then the same column is returned.\n",
    "\n",
    "\n",
    "def name_to_code(column):\n",
    "    \n",
    "    \n",
    "    return column.replace({'Atlanta Hawks':'ATL', 'Boston Celtics':'BOS', \n",
    "                                                     'Brooklyn Nets':'BRK', 'Chicago Bulls':'CHI',\n",
    "                                                     'Charlotte Hornets':'CHO', 'Cleveland Cavaliers':'CLE',\n",
    "                                                     'Dallas Mavericks':'DAL', 'Denver Nuggets':'DEN',\n",
    "                                                     'Detroit Pistons':'DET', 'Golden State Warriors':'GSW',\n",
    "                                                     'Houston Rockets':'HOU', 'Indiana Pacers':'IND',\n",
    "                                                     'Los Angeles Clippers':'LAC', 'Los Angeles Lakers':'LAL',\n",
    "                                                     'Memphis Grizzlies':'MEM', 'Miami Heat':'MIA',\n",
    "                                                     'Milwaukee Bucks':'MIL', 'Minnesota Timberwolves':'MIN',\n",
    "                                                     'New Orleans Pelicans':'NOP', 'New York Knicks':'NYK',\n",
    "                                                     'Oklahoma City Thunder':'OKC', 'Orlando Magic':'ORL',\n",
    "                                                     'Philadelphia 76ers':'PHI', 'Phoenix Suns':'PHO',\n",
    "                                                     'Portland Trail Blazers':'POR', 'Sacramento Kings':'SAC',\n",
    "                                                     'San Antonio Spurs':'SAS', 'Toronto Raptors':'TOR',\n",
    "                                                     'Utah Jazz':'UTA', 'Washington Wizards':'WAS'}, inplace=True)\n",
    "\n",
    "\n"
   ]
  },
  {
   "cell_type": "code",
   "execution_count": 3,
   "metadata": {},
   "outputs": [],
   "source": [
    "# This function reads and cleans individual players databases. NaN values are replaced by 0, and after it,\n",
    "# rows for which 'Player' value is the same (and thus are duplicates) are deleted except the last one.\n",
    "# Duplicate players means that the player was transfered during the season, and thus had two rows of \n",
    "# statistics, one for each team in which he played for.\n",
    "# Then data is grouped by team code. Only three players per team are saved. Finally the dataset is returned.\n",
    "\n",
    "\n",
    "def ind_read_clean_data(filename, order_by, n):\n",
    "    \n",
    "    data = pd.read_excel(filename, index_col=0)\n",
    "    data = data.fillna(0)\n",
    "    data = data.drop_duplicates(['Player'], keep='last')\n",
    "    data = data.sort_values(['Tm', order_by], ascending=[True, False])\n",
    "    data = data.reset_index(drop=True)\n",
    "    \n",
    "    data = data.groupby(['Tm']).head(n)\n",
    "    \n",
    "    return data"
   ]
  },
  {
   "cell_type": "code",
   "execution_count": 4,
   "metadata": {},
   "outputs": [],
   "source": [
    "# This function reads and cleans team data statistics for seasons 2018/2019 and 2019/2020.\n",
    "\n",
    "\n",
    "def team_read_clean_data():\n",
    "    \n",
    "    data = pd.read_csv('teamstats2019.csv', sep=';')\n",
    "    data = data.drop([30])\n",
    "    data['Rk'] = data['Rk'].astype(int)\n",
    "    name_to_code(data['Team'])\n",
    "    \n",
    "    data2 = pd.read_csv('teamstats2020.csv', sep=';')\n",
    "    data2 = data2.drop([30])\n",
    "    data2['Rk'] = data2['Rk'].astype(int)\n",
    "    name_to_code(data2['Team'])\n",
    "    \n",
    "    return data, data2"
   ]
  },
  {
   "cell_type": "code",
   "execution_count": 5,
   "metadata": {},
   "outputs": [],
   "source": [
    "# Prior initialization function. The function receives as parameters the dataset, and the approach in \n",
    "# which the user wants to perform prior initialization. Function returns a dictionary where every player \n",
    "# is intialized with a score, a dictionary where each team contains its players, and a dicitonary containing\n",
    "# each teams' skills.\n",
    "\n",
    "\n",
    "def prior_initialization_players(data, approach):\n",
    "    \n",
    "    players_dic = {}\n",
    "    teams_dic = {}\n",
    "    teams_skills = {}\n",
    "\n",
    "    for player in data['Player']:\n",
    "        \n",
    "        if approach==0:\n",
    "            players_dic[player] = Rating()\n",
    "        \n",
    "            \n",
    "        if approach==1:    \n",
    "            pts = data[data['Player']==player]['PTS']\n",
    "            ast = data[data['Player']==player]['AST']\n",
    "            rbd = data[data['Player']==player]['TRB']\n",
    "\n",
    "            par = 0.4*pts+0.3*ast+0.3*rbd\n",
    "\n",
    "            mu = float(par)\n",
    "            sigma = float(mu/2-(data[data['Player']==player]['Age']))\n",
    "\n",
    "            players_dic[player] = Rating(mu, mu/2)\n",
    "\n",
    "\n",
    "\n",
    "    for team in data['Tm']:\n",
    "\n",
    "        teams_dic[team] = data[data['Tm']==team]['Player']\n",
    "\n",
    "\n",
    "\n",
    "    for team in teams_dic:\n",
    "\n",
    "        teams_skills[team] = Rating(0.0,0.00001)\n",
    "\n",
    "        for player in teams_dic[team]:\n",
    "\n",
    "            teams_skills[team] = Rating(players_dic[player].mu+teams_skills[team].mu ,\n",
    "                                        players_dic[player].sigma+teams_skills[team].sigma)\n",
    "\n",
    "    \n",
    "    return players_dic, teams_dic, teams_skills"
   ]
  },
  {
   "cell_type": "code",
   "execution_count": 6,
   "metadata": {},
   "outputs": [],
   "source": [
    "# This function is used to perform team initialization. The function receives a dataset and the approach\n",
    "# used to perform prior initialization. The function returns the dictionary of each teams' skills.\n",
    "\n",
    "\n",
    "def prior_initialization_teams(data, approach):\n",
    "    \n",
    "    teams_dic = {}\n",
    "    \n",
    "    #AvAge = ind_data2020.groupby(['Tm']).mean()['Age']\n",
    "    \n",
    "    for team in data['Team']:\n",
    "        \n",
    "        if approach==0:\n",
    "            teams_dic[team] = Rating()\n",
    "            \n",
    "        if approach==1:        \n",
    "            pts = data[data['Team'] == team]['PTS']\n",
    "            ast = data[data['Team'] == team]['AST']\n",
    "            rbd = data[data['Team'] == team]['TRB']\n",
    "\n",
    "            #trustiness = AvAge[team]\n",
    "\n",
    "            avskll = float(data[data['Team']==team]['PTS'])\n",
    "\n",
    "            teams_dic[team] = Rating(avskll, avskll/3)\n",
    "    \n",
    "    return teams_dic"
   ]
  },
  {
   "cell_type": "code",
   "execution_count": 7,
   "metadata": {},
   "outputs": [],
   "source": [
    "# This function receives as parameter the ground truth ranking. Teams are ordered by the number of wins\n",
    "# and then the dataset is returned.\n",
    "\n",
    "\n",
    "def read_prepare_xls(filename):\n",
    "    data = pd.read_excel(filename, index_col=0)\n",
    "    \n",
    "    name_to_code(data['Team'])\n",
    "\n",
    "    data = data.sort_values(by='Team', ascending=True)\n",
    "    data['Pos']=[i+1 for i in range(len(data))]\n",
    "    data = data.sort_values(by='W', ascending=False)\n",
    "    \n",
    "    return data"
   ]
  },
  {
   "cell_type": "code",
   "execution_count": 8,
   "metadata": {},
   "outputs": [],
   "source": [
    "# This function receives as parameters two rankings and returns the Kendall tau correlation coefficient\n",
    "# between them.\n",
    "\n",
    "\n",
    "def rank_distance(r1, r2):\n",
    "    \n",
    "    return scipy.stats.kendalltau(r1,r2, initial_lexsort=True)\n",
    "    "
   ]
  },
  {
   "cell_type": "code",
   "execution_count": 9,
   "metadata": {},
   "outputs": [],
   "source": [
    "# This function receives as parameters two rankings and returns the Kendall Tau distance between them.\n",
    "\n",
    "\n",
    "def normalised_kendall_tau_distance(values1, values2):\n",
    "    \"\"\"Compute the Kendall tau distance.\"\"\"\n",
    "    n = len(values1)\n",
    "    assert len(values2) == n, \"Both lists have to be of equal length\"\n",
    "    i, j = np.meshgrid(np.arange(n), np.arange(n))\n",
    "    a = np.argsort(values1)\n",
    "    b = np.argsort(values2)\n",
    "    ndisordered = np.logical_or(np.logical_and(a[i] < a[j], b[i] > b[j]), np.logical_and(a[i] > a[j], b[i] < b[j])).sum()\n",
    "    return ndisordered / (n * (n - 1))"
   ]
  },
  {
   "cell_type": "code",
   "execution_count": 10,
   "metadata": {},
   "outputs": [],
   "source": [
    "# This function is used to compute skill for each team or player. It receives as parameters mu and sigma,\n",
    "# and returns the skill.\n",
    "\n",
    "\n",
    "def rating(mu, sigma):\n",
    "    \n",
    "    return mu-2*sigma"
   ]
  },
  {
   "cell_type": "code",
   "execution_count": 11,
   "metadata": {},
   "outputs": [],
   "source": [
    "# This function receives as parameters the dictionary of teams skills, and returns the ranking for such\n",
    "# teams ordered by higher to lower rating value.\n",
    "\n",
    "\n",
    "def prepare_ranking(teams_dic):\n",
    "    \n",
    "    ### Get the latest TrueSkill Ranks.\n",
    "    ranking = pd.DataFrame(teams_dic).transpose()\n",
    "    ranking['Pos']=[i+1 for i in range(len(ranking))]\n",
    "    ranking.columns = ['mu','sigma','Pos']\n",
    "    ranking['rank']=rating(ranking['mu'],ranking['sigma'])\n",
    "    ranking = ranking.sort_values(by='rank', ascending=False)\n",
    "    \n",
    "    return ranking"
   ]
  },
  {
   "cell_type": "code",
   "execution_count": 12,
   "metadata": {},
   "outputs": [],
   "source": [
    "# This function receives as parameters two arrays containing teams codes, and are grouped into one single\n",
    "# array of arrays.\n",
    "\n",
    "\n",
    "def prepare_arrays(home_team, away_team):\n",
    "    \n",
    "    home_team_rank = home_team.values\n",
    "    away_team_rank = away_team.values\n",
    "    \n",
    "    return np.stack((home_team_rank, away_team_rank), axis=-1)\n",
    "    "
   ]
  },
  {
   "cell_type": "code",
   "execution_count": 13,
   "metadata": {},
   "outputs": [],
   "source": [
    "# This function receives as parameters a dataset and the players dictionary. The function computes the \n",
    "# skill for players which are in the dataset but not in the players dicitonary, using that same dataset\n",
    "# statistics. The function returns the players dicitonary.\n",
    "# This function is implemented in order to add new rookie players to players dictionary from one season \n",
    "# to another.\n",
    "\n",
    "\n",
    "def add_rookies(players_dic, data):\n",
    "    for player in data['Player']:\n",
    "        if player not in players_dic.keys():\n",
    "            \n",
    "            pts = data[data['Player']==player]['PTS']\n",
    "            ast = data[data['Player']==player]['AST']\n",
    "            rbd = data[data['Player']==player]['TRB']\n",
    "\n",
    "            par = 0.4*pts+0.3*ast+0.3*rbd\n",
    "\n",
    "            mu = float(par)\n",
    "            sigma = float(mu/2-(data[data['Player']==player]['Age']))\n",
    "            \n",
    "            \n",
    "            \n",
    "            players_dic[player] = Rating(mu,mu/2)\n",
    "            \n",
    "            \n",
    "    return players_dic\n",
    "            "
   ]
  },
  {
   "cell_type": "code",
   "execution_count": 14,
   "metadata": {},
   "outputs": [],
   "source": [
    "# Inference function. The function receives as parameters the teams dictionary, the array of teams involved\n",
    "# in each game, the ouotcomoe for each game, and the dataset containing teams statistics.\n",
    "# In this function, inference process is performed using every game in 2019/2020 regular season.\n",
    "# Sigma evolution is saved after each update, and new team rankings are computed. Finally, teams dictionary\n",
    "# with final skills and sigma evolution dictionary are returned.\n",
    "\n",
    "\n",
    "def inference(players_dic, teams_dic, match_array, games_outcome, data, data2):\n",
    "    \n",
    "    sigma_evolution,_,_ = prior_initialization_players(data, approach=1)\n",
    "    sigma_evolution = add_rookies(sigma_evolution, data2)\n",
    "    for player in sigma_evolution:\n",
    "        sigma_evolution[player] = [sigma_evolution[player].sigma]\n",
    "    \n",
    "        \n",
    "    for i in range(len(match_array)):\n",
    "\n",
    "        home_team = []\n",
    "        away_team = []\n",
    "\n",
    "        #each team is a bunch of individual players' Rating()\n",
    "        for player in players_dic:\n",
    "            \n",
    "            if (player in teams_dic[match_array[i][0]].values):\n",
    "                \n",
    "                home_team.append(players_dic[player])\n",
    "\n",
    "            if (player in teams_dic[match_array[i][1]].values):\n",
    "                \n",
    "                away_team.append(players_dic[player])\n",
    "        \n",
    "        \n",
    "        #new ranks:\n",
    "        (home_team[0], home_team[1], home_team[2]), (away_team[0], away_team[1], away_team[2]) = ts.rate([home_team, away_team], ranks = games_outcome[i])\n",
    "        \n",
    "        \n",
    "        #update dictionary with changed/new ranks:\n",
    "        for player in players_dic:\n",
    "            \n",
    "            if (player in teams_dic[match_array[i][0]].values):\n",
    "                \n",
    "                players_dic[player] = home_team[0]\n",
    "                sigma_evolution[player].append(home_team[0].sigma)\n",
    "                home_team.pop(0)\n",
    "\n",
    "            if (player in teams_dic[match_array[i][1]].values):\n",
    "                \n",
    "                players_dic[player] = away_team[0]\n",
    "                sigma_evolution[player].append(away_team[0].sigma)\n",
    "                away_team.pop(0)\n",
    "        \n",
    "        \n",
    "    \n",
    "    return players_dic, sigma_evolution"
   ]
  },
  {
   "cell_type": "code",
   "execution_count": 15,
   "metadata": {},
   "outputs": [],
   "source": [
    "# This function receives skills for two teams involved in a game, and returns the probability of winning \n",
    "# for each of first received team.\n",
    "\n",
    "\n",
    "def win_probability(team1, team2):\n",
    "    BETA = 0.76\n",
    "    delta_mu = sum(r.mu for r in team1) - sum(r.mu for r in team2)\n",
    "    sum_sigma = sum(r.sigma ** 2 for r in itertools.chain(team1, team2))\n",
    "    size = len(team1) + len(team2)\n",
    "    denom = math.sqrt(size * (BETA * BETA) + sum_sigma)\n",
    "    tss = ts.global_env()\n",
    "    return tss.cdf(delta_mu / denom)"
   ]
  },
  {
   "cell_type": "code",
   "execution_count": 16,
   "metadata": {},
   "outputs": [],
   "source": [
    "# This function is used to simulate every game in 2020/2021 regular season. The function receives as parameters\n",
    "# the after-inference team skills dictionary, the match array containing every game in 2020/2021 season.\n",
    "# The amount of games win in the season is saved in games2021 dataset.\n",
    "# This functino returns the updated games2021 dataset, containing the amount of wins per season, and the \n",
    "# ratio of wrongly predicted games.\n",
    "\n",
    "\n",
    "def season_simulation(teams_skills, match_array, games2021):\n",
    "    \n",
    "    pred_home_team = [0 for i in range(len(match_array))]\n",
    "    pred_away_team = [0 for i in range(len(match_array))]\n",
    "    \n",
    "    \n",
    "    for i in range(len(match_array)):\n",
    "        \n",
    "        home_team_rank = teams_skills[match_array[i][0]]\n",
    "        away_team_rank = teams_skills[match_array[i][1]]\n",
    "        \n",
    "        \n",
    "        home_winner_prob = win_probability([home_team_rank,],[away_team_rank,])\n",
    "\n",
    "        rndm_num = random.uniform(0,1)\n",
    "\n",
    "        #means home team wins (remember that low rank is better!)\n",
    "        if rndm_num < home_winner_prob:\n",
    "            pred_away_team[i]=1\n",
    "\n",
    "        else:\n",
    "            pred_home_team[i]=1\n",
    "    \n",
    "    \n",
    "    \n",
    "    #add obtained data as new db columns\n",
    "    games2021['Pred_Home'] = pred_home_team\n",
    "    games2021['Pred_Away'] = pred_away_team\n",
    "    \n",
    "    \n",
    "    ratio = success_ratio(games2021, pred_home_team)\n",
    "    \n",
    "    \n",
    "    return games2021, ratio"
   ]
  },
  {
   "cell_type": "code",
   "execution_count": 17,
   "metadata": {},
   "outputs": [],
   "source": [
    "# This function receives as parameters the games2021 dataset, containing the true amount of games win,\n",
    "# and the precicted games dictionary. The function returns the ratio of wronglyy predicted games all over\n",
    "# the season.\n",
    "\n",
    "\n",
    "def success_ratio(games2021, pred_home_team):\n",
    "\n",
    "    misprediction = 0\n",
    "    \n",
    "    for i in range(len(games2021['HomeWinner'].values)):\n",
    "        if (games2021['HomeWinner'].values[i]!=pred_home_team[i]):\n",
    "            misprediction = misprediction+1\n",
    "\n",
    "    ratio = 100*(1-misprediction/len(games2021['HomeWinner'].values))\n",
    "    \n",
    "    #print('Ratio of success is: ', ratio, '%')\n",
    "    \n",
    "    return ratio"
   ]
  },
  {
   "cell_type": "code",
   "execution_count": null,
   "metadata": {},
   "outputs": [],
   "source": []
  },
  {
   "cell_type": "code",
   "execution_count": null,
   "metadata": {},
   "outputs": [],
   "source": []
  }
 ],
 "metadata": {
  "kernelspec": {
   "display_name": "Python 3",
   "language": "python",
   "name": "python3"
  },
  "language_info": {
   "codemirror_mode": {
    "name": "ipython",
    "version": 3
   },
   "file_extension": ".py",
   "mimetype": "text/x-python",
   "name": "python",
   "nbconvert_exporter": "python",
   "pygments_lexer": "ipython3",
   "version": "3.7.4"
  }
 },
 "nbformat": 4,
 "nbformat_minor": 2
}
